{
 "cells": [
  {
   "cell_type": "code",
   "execution_count": 129,
   "metadata": {},
   "outputs": [],
   "source": [
    "#pip install openpyxl\n",
    "#import openpyxl\n",
    "#path = \"C:/Users/uidq8356/OneDrive - Vitesco Technologies/문서/SAP/SAP GUI/\n",
    "#filename = 202208_2.xlsx\n"
   ]
  },
  {
   "cell_type": "code",
   "execution_count": 130,
   "metadata": {},
   "outputs": [],
   "source": [
    "from openpyxl import load_workbook\n",
    "import openpyxl\n",
    "wb = load_workbook(\"C:/Users/uidq8356/OneDrive - Vitesco Technologies/문서/SAP/SAP GUI/202208_2.xlsx\", data_only=True)"
   ]
  },
  {
   "cell_type": "code",
   "execution_count": 131,
   "metadata": {},
   "outputs": [
    {
     "name": "stdout",
     "output_type": "stream",
     "text": [
      "1344\n"
     ]
    }
   ],
   "source": [
    "wh = wb['202208']\n",
    "print(wh['D8'].value)\n",
    "ws = wb.active"
   ]
  },
  {
   "cell_type": "code",
   "execution_count": 132,
   "metadata": {},
   "outputs": [
    {
     "data": {
      "text/plain": [
       "'\\nwh.auto_filter.ref = \"A1:Z10000\"  #필터를 걸 영역을 지정해준다.\\nwh.auto_filter.add_filter_column(2, vals=[\"WU-TG1D\"])\\nwb.save(\"filtered_202208_2.xlsx\")\\nsh=wb[\\'202208\\']\\n'"
      ]
     },
     "execution_count": 132,
     "metadata": {},
     "output_type": "execute_result"
    }
   ],
   "source": [
    "'''\n",
    "wh.auto_filter.ref = \"A1:Z10000\"  #필터를 걸 영역을 지정해준다.\n",
    "wh.auto_filter.add_filter_column(2, vals=[\"WU-TG1D\"])\n",
    "wb.save(\"filtered_202208_2.xlsx\")\n",
    "sh=wb['202208']\n",
    "'''"
   ]
  },
  {
   "cell_type": "code",
   "execution_count": 133,
   "metadata": {},
   "outputs": [
    {
     "data": {
      "text/plain": [
       "'\\nfor i in range(100):\\n    for j in range(1,7):\\n        cellPoint = chr(65+i)+str(j) #65를 더해주면 숫자에서 ascii 형으로 변환\\n        if \"WU-TG1D\" in wh[cellPoint].value:\\n            dataValue = wh[cellPoint].value\\n            dataValue = dataValue.replace(\"WU-TG1D\", \"TG1D TPMS WU\")\\n            wh[cellPoint].value = dataValue\\n             \\n    \\nwb.save(\"replaced_202208_2.xlsx\")\\nwb.close()\\n'"
      ]
     },
     "execution_count": 133,
     "metadata": {},
     "output_type": "execute_result"
    }
   ],
   "source": [
    "'''\n",
    "for i in range(100):\n",
    "    for j in range(1,7):\n",
    "        cellPoint = chr(65+i)+str(j) #65를 더해주면 숫자에서 ascii 형으로 변환\n",
    "        if \"WU-TG1D\" in wh[cellPoint].value:\n",
    "            dataValue = wh[cellPoint].value\n",
    "            dataValue = dataValue.replace(\"WU-TG1D\", \"TG1D TPMS WU\")\n",
    "            wh[cellPoint].value = dataValue\n",
    "             \n",
    "    \n",
    "wb.save(\"replaced_202208_2.xlsx\")\n",
    "wb.close()\n",
    "'''"
   ]
  },
  {
   "cell_type": "code",
   "execution_count": 134,
   "metadata": {},
   "outputs": [],
   "source": [
    "for rowNum in range(2, ws.max_row+1):\n",
    "    state = ws.cell(row=rowNum, column=3).value\n",
    "    if state == 'WU-TG1D':\n",
    "        ws.cell(row=rowNum, column=3, value='TG1D TPMS WU')\n",
    "    elif state == 'WU':\n",
    "        ws.cell(row=rowNum, column=3, value='TG1C TPMS WU')\n",
    "    elif state == 'TPMS-INDY2':\n",
    "        ws.cell(row=rowNum, column=3, value='INDY2 ECU')\n",
    "    elif state == 'IBU1.0-SMK':\n",
    "        ws.cell(row=rowNum, column=3, value='IBU1.0')    \n",
    "    elif state == 'IBU1.0-NSMK':\n",
    "        ws.cell(row=rowNum, column=3, value='IBU1.0')\n",
    "    elif state == 'IBU2.0-NSMK':\n",
    "        ws.cell(row=rowNum, column=3, value='IBU2.0')\n",
    "    elif state == 'IBU2.0-NSMK-NQ5':\n",
    "        ws.cell(row=rowNum, column=3, value='IBU2.0')\n",
    "    elif state == 'IBU2.0-SMK':\n",
    "        ws.cell(row=rowNum, column=3, value='IBU2.0')\n",
    "    elif state == 'IBU2.0-SMK-NQ5':\n",
    "        ws.cell(row=rowNum, column=3, value='IBU2.0')\n",
    "    elif state == 'RKE-IBC':\n",
    "        ws.cell(row=rowNum, column=3, value='Folding Key')\n",
    "    elif state == 'FOB3.5':\n",
    "        ws.cell(row=rowNum, column=3, value='FOB')\n",
    "    elif state == 'IBC-AE/DE-INT':\n",
    "        ws.cell(row=rowNum, column=3, value='IBC')\n",
    "    elif state == 'SDC-80':\n",
    "        ws.cell(row=rowNum, column=3, value='SDC80')\n",
    "    elif state == 'SDC-50':\n",
    "        ws.cell(row=rowNum, column=3, value='SDC50')\n",
    "    elif state == 'MGH100-MOCI-BASE':\n",
    "        ws.cell(row=rowNum, column=3, value='MGH100-MOCI-ACC')                                        \n",
    "    elif state == 'SPEED30-ISC':\n",
    "        ws.cell(row=rowNum, column=3, value='SPEED30')\n",
    "    elif state == 'SIM2K-305-7091':\n",
    "        ws.cell(row=rowNum, column=3, value='SIM2K-305')\n",
    "    elif state == 'FRA-GEN2':\n",
    "        ws.cell(row=rowNum, column=3, value='FRA_low pressure')\n",
    "    elif state == 'MAS65C 4.5':\n",
    "        ws.cell(row=rowNum, column=3, value='MAS65C4.5')\n",
    "    elif state == 'MAS85C2.0-MBCO':\n",
    "        ws.cell(row=rowNum, column=3, value='MAS85C2.0')\n",
    "    elif state == 'FOB2.7':\n",
    "        ws.cell(row=rowNum, column=3, value='FOB')\n",
    "    elif state == 'FOB3.0':\n",
    "        ws.cell(row=rowNum, column=3, value='FOB')\n",
    "    elif state == 'SIM2K-250P-L2':\n",
    "        ws.cell(row=rowNum, column=3, value='SIM2K-250P')\n",
    "    elif state == 'SPEED15-ISC':\n",
    "        ws.cell(row=rowNum, column=3, value='SPEED15')\n",
    "    elif state == 'FRA-X100':\n",
    "        ws.cell(row=rowNum, column=3, value='FRA_low pressure')\n",
    "    elif state == 'SIM2K-305-6265':\n",
    "        ws.cell(row=rowNum, column=3, value='SIM2K-305')\n",
    "    elif state == 'SPEED10-CISS':\n",
    "        ws.cell(row=rowNum, column=3, value='SPEED10')\n",
    "    elif state == 'AHB-GEN3-SCC':\n",
    "        ws.cell(row=rowNum, column=3, value='AHB-GEN3')\n",
    "    elif state == 'IBC-AE/DE-NO':\n",
    "        ws.cell(row=rowNum, column=3, value='IBC')                           \n",
    "    elif state == 'QNS':\n",
    "        ws.cell(row=rowNum, column=3, value='(I am) Exhausted')\n",
    "    elif state == 'QNS':\n",
    "        ws.cell(row=rowNum, column=3, value='(I am) Exhausted')\n",
    "    elif state == 'QNS':\n",
    "        ws.cell(row=rowNum, column=3, value='(I am) Exhausted')    \n",
    "\n",
    "'''\n",
    "for rowNum2 in range(2, ws.max_row+1):\n",
    "    state = ws.cell(row=rowNum2, column=2).value\n",
    "    if state == '41':\n",
    "        ws.cell(row=rowNum2, column=2, value='SAM OSS')\n",
    "    elif state == '28':\n",
    "        ws.cell(row=rowNum2, column=2, value='SAM ECC')       \n",
    "    elif state == '27':\n",
    "        ws.cell(row=rowNum2, column=2, value='SAM ECC TIS')      \n",
    "    elif state == '26':\n",
    "        ws.cell(row=rowNum2, column=2, value='S&A')       \n",
    "    elif state == '15':\n",
    "        ws.cell(row=rowNum2, column=2, value='EC E')\n",
    "    elif state == '11':\n",
    "        ws.cell(row=rowNum2, column=2, value='EC DT')       \n",
    "    elif state == '10':\n",
    "        ws.cell(row=rowNum2, column=2, value='EC E')      \n",
    "    elif state == '7':\n",
    "        ws.cell(row=rowNum2, column=2, value='SMY')       \n",
    "    elif state == '4':\n",
    "        ws.cell(row=rowNum2, column=2, value='AN')\n",
    "    elif state == '2':\n",
    "        ws.cell(row=rowNum2, column=2, value='S&A')\n",
    "'''\n",
    "\n",
    "wb.save(\"replaced_202208_3.xlsx\")\n"
   ]
  },
  {
   "cell_type": "code",
   "execution_count": 136,
   "metadata": {},
   "outputs": [
    {
     "name": "stdout",
     "output_type": "stream",
     "text": [
      "IBU2.0\n"
     ]
    }
   ],
   "source": [
    "wb = load_workbook(\"C:/Users/uidq8356/OneDrive - Vitesco Technologies/문서/python/Johnny/replaced_202208_3.xlsx\", data_only=True)\n",
    "\n",
    "wh = wb['202208']\n",
    "print(wh['C3'].value)\n",
    "\n",
    "ws = wb.active\n",
    "\n",
    "\n",
    "for rowNum2 in range(2, ws.max_row+1):\n",
    "    state = ws.cell(row=rowNum2, column=2).value\n",
    "    if state == 'N41':  #숫자 변환법 몰라서 다 앞에 N더함 엑셀수식 =\"N\"&A3\n",
    "        ws.cell(row=rowNum2, column=2, value='SAM OSS')\n",
    "    elif state == 'N28':\n",
    "        ws.cell(row=rowNum2, column=2, value='SAM ECC')       \n",
    "    elif state == 'N27':\n",
    "        ws.cell(row=rowNum2, column=2, value='SAM ECC TIS')      \n",
    "    elif state == 'N26':\n",
    "        ws.cell(row=rowNum2, column=2, value='S&A')       \n",
    "    elif state == 'N15':\n",
    "        ws.cell(row=rowNum2, column=2, value='EC E')\n",
    "    elif state == 'N11':\n",
    "        ws.cell(row=rowNum2, column=2, value='EC DT')       \n",
    "    elif state == 'N10':\n",
    "        ws.cell(row=rowNum2, column=2, value='EC E')      \n",
    "    elif state == 'N7':\n",
    "        ws.cell(row=rowNum2, column=2, value='SMY')       \n",
    "    elif state == 'N4':\n",
    "        ws.cell(row=rowNum2, column=2, value='AN')\n",
    "    elif state == 'N2':\n",
    "        ws.cell(row=rowNum2, column=2, value='S&A')\n",
    "      \n",
    "\n",
    "wb.save(\"replaced_202208_4.xlsx\")"
   ]
  }
 ],
 "metadata": {
  "kernelspec": {
   "display_name": "Python 3.10.6 64-bit",
   "language": "python",
   "name": "python3"
  },
  "language_info": {
   "codemirror_mode": {
    "name": "ipython",
    "version": 3
   },
   "file_extension": ".py",
   "mimetype": "text/x-python",
   "name": "python",
   "nbconvert_exporter": "python",
   "pygments_lexer": "ipython3",
   "version": "3.10.6"
  },
  "orig_nbformat": 4,
  "vscode": {
   "interpreter": {
    "hash": "769239ddd4c9243445f46ba02f0db5b2d6e0be586f79fbe320768c7dce08aad8"
   }
  }
 },
 "nbformat": 4,
 "nbformat_minor": 2
}
