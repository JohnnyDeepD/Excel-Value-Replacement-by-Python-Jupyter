{
 "cells": [
  {
   "cell_type": "code",
   "execution_count": null,
   "metadata": {},
   "outputs": [],
   "source": [
    "#pip install openpyxl\n",
    "#import openpyxl\n",
    "#path = \"C:/Users/uidq8356/OneDrive - Vitesco Technologies/문서/SAP/SAP GUI/\n",
    "#filename = 220815_2.xlsx\n"
   ]
  },
  {
   "cell_type": "code",
   "execution_count": 104,
   "metadata": {},
   "outputs": [],
   "source": [
    "from openpyxl import load_workbook\n",
    "import openpyxl\n",
    "wb = load_workbook(\"C:/Users/uidq8356/OneDrive - Vitesco Technologies/문서/SAP/SAP GUI/220815_2.xlsx\", data_only=True)"
   ]
  },
  {
   "cell_type": "code",
   "execution_count": 105,
   "metadata": {},
   "outputs": [
    {
     "name": "stdout",
     "output_type": "stream",
     "text": [
      "1815\n"
     ]
    }
   ],
   "source": [
    "wh = wb['220815']\n",
    "print(wh['D8'].value)\n",
    "ws = wb.active"
   ]
  },
  {
   "cell_type": "code",
   "execution_count": 106,
   "metadata": {},
   "outputs": [],
   "source": [
    "#wh.auto_filter.ref = \"A1:Z10000\"  #필터를 걸 영역을 지정해준다.\n",
    "#wh.auto_filter.add_filter_column(2, vals=[\"WU-TG1D\"])\n",
    "#wb.save(\"filtered_220815_2.xlsx\")\n",
    "#sh=wb['220815']"
   ]
  },
  {
   "cell_type": "code",
   "execution_count": 107,
   "metadata": {},
   "outputs": [],
   "source": [
    "#for i in range(100):\n",
    "#    for j in range(1,7):\n",
    "#        cellPoint = chr(65+i)+str(j) #65를 더해주면 숫자에서 ascii 형으로 변환\n",
    "#        if \"WU-TG1D\" in wh[cellPoint].value:\n",
    "#            dataValue = wh[cellPoint].value\n",
    "#            dataValue = dataValue.replace(\"WU-TG1D\", \"TG1D TPMS WU\")\n",
    "#            wh[cellPoint].value = dataValue\n",
    "#             \n",
    "    \n",
    "#wb.save(\"replaced_220815_2.xlsx\")\n",
    "#wb.close()"
   ]
  },
  {
   "cell_type": "code",
   "execution_count": 108,
   "metadata": {},
   "outputs": [],
   "source": [
    "for rowNum in range(2, ws.max_row+1):\n",
    "    state = ws.cell(row=rowNum, column=3).value\n",
    "    if state == 'WU-TG1D':\n",
    "        ws.cell(row=rowNum, column=3, value='TG1D TPMS WU')\n",
    "    elif state == 'QNS':\n",
    "        ws.cell(row=rowNum, column=3, value='(I am) Exhausted')\n",
    "\n",
    "wb.save(\"replaced_220815_2.xlsx\")"
   ]
  }
 ],
 "metadata": {
  "kernelspec": {
   "display_name": "Python 3.10.6 64-bit",
   "language": "python",
   "name": "python3"
  },
  "language_info": {
   "codemirror_mode": {
    "name": "ipython",
    "version": 3
   },
   "file_extension": ".py",
   "mimetype": "text/x-python",
   "name": "python",
   "nbconvert_exporter": "python",
   "pygments_lexer": "ipython3",
   "version": "3.10.6"
  },
  "orig_nbformat": 4,
  "vscode": {
   "interpreter": {
    "hash": "769239ddd4c9243445f46ba02f0db5b2d6e0be586f79fbe320768c7dce08aad8"
   }
  }
 },
 "nbformat": 4,
 "nbformat_minor": 2
}
